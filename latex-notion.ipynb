{
 "cells": [
  {
   "cell_type": "code",
   "execution_count": 2,
   "id": "4df5275f-c416-4685-9054-6fdec86a162f",
   "metadata": {},
   "outputs": [
    {
     "data": {
      "application/vnd.jupyter.widget-view+json": {
       "model_id": "45be86a8233b4802abd1f6bffe0bef94",
       "version_major": 2,
       "version_minor": 0
      },
      "text/plain": [
       "Textarea(value='', description='Input:', layout=Layout(height='100px', width='500px'), placeholder='Type your …"
      ]
     },
     "metadata": {},
     "output_type": "display_data"
    },
    {
     "data": {
      "application/vnd.jupyter.widget-view+json": {
       "model_id": "69ecd819238249b8adc038f6bffb72a9",
       "version_major": 2,
       "version_minor": 0
      },
      "text/plain": [
       "Textarea(value='', description='Output:', layout=Layout(height='100px', width='500px'), placeholder='Your resu…"
      ]
     },
     "metadata": {},
     "output_type": "display_data"
    }
   ],
   "source": [
    "import ipywidgets as widgets\n",
    "from IPython.display import display\n",
    "\n",
    "# Function to remove LaTeX delimiters\n",
    "def remove_latex_delimiters(input_str):\n",
    "    return input_str.replace(\"\\\\(\", \"\").replace(\"\\\\)\", \"\")\n",
    "\n",
    "# Widget for input\n",
    "input_text = widgets.Textarea(\n",
    "    value='',\n",
    "    placeholder='Type your LaTeX here...',\n",
    "    description='Input:',\n",
    "    disabled=False,\n",
    "    layout=widgets.Layout(width='500px', height='100px')\n",
    ")\n",
    "\n",
    "# Widget for output\n",
    "output_text = widgets.Textarea(\n",
    "    value='',\n",
    "    placeholder='Your result will appear here...',\n",
    "    description='Output:',\n",
    "    disabled=False,\n",
    "    layout=widgets.Layout(width='500px', height='100px')\n",
    ")\n",
    "\n",
    "# Update function for the widget\n",
    "def update_output(widget):\n",
    "    output_text.value = remove_latex_delimiters(input_text.value)\n",
    "\n",
    "# Linking the widget's value change to the update function\n",
    "input_text.observe(update_output, names='value')\n",
    "\n",
    "# Display the widgets\n",
    "display(input_text, output_text)\n"
   ]
  },
  {
   "cell_type": "code",
   "execution_count": null,
   "id": "2d1fc9fa-62b4-41bc-840f-c4fba37c4bca",
   "metadata": {},
   "outputs": [],
   "source": []
  }
 ],
 "metadata": {
  "kernelspec": {
   "display_name": "Python 3 (ipykernel)",
   "language": "python",
   "name": "python3"
  },
  "language_info": {
   "codemirror_mode": {
    "name": "ipython",
    "version": 3
   },
   "file_extension": ".py",
   "mimetype": "text/x-python",
   "name": "python",
   "nbconvert_exporter": "python",
   "pygments_lexer": "ipython3",
   "version": "3.11.4"
  }
 },
 "nbformat": 4,
 "nbformat_minor": 5
}
